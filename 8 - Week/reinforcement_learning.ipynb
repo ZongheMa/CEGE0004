{
 "cells": [
  {
   "cell_type": "markdown",
   "source": [
    "# Reinforcement Learning\n",
    "\n",
    "In this notebook you will learn how to implement from scratch the Q-Learning algorithm for deterministic Markov\n",
    "Decision Process and how to use the Deep Q-Learning algorithm using the TensorFlow-Agents library.\n",
    "\n",
    "Imagine we want to train an impostor from\n",
    "[Among Us](https://en.wikipedia.org/wiki/Among_Us) to make it capable of finding the closest vent to\n",
    "hide himself. To simplify this task we assume that the impostor moves in a grid world.\n",
    "\n",
    "We can model the impostor in this world as an agent that implements 4 actions,\n",
    "move up, move down, move right and move left,\n",
    "and we can model the environment as a grid world where the agent gets rewarded only once it has achieved its goal,\n",
    "it has found the vent.\n",
    "\n",
    "## The Environment\n",
    "\n",
    "If in supervised learning, we would usually spend most of our time collecting and cleaning the data, in RL this\n",
    "time is spent in designing the environment. Following we design a `GridWorld` class."
   ],
   "metadata": {
    "collapsed": false,
    "pycharm": {
     "name": "#%% md\n"
    }
   }
  },
  {
   "cell_type": "code",
   "execution_count": null,
   "outputs": [],
   "source": [
    "import matplotlib.pyplot as plt\n",
    "from matplotlib.offsetbox import AnnotationBbox, OffsetImage\n",
    "\n",
    "class GridWold:\n",
    "\n",
    "    def __init__(self, n, init_pos=(0, 0), target_pos=None):\n",
    "        \"\"\"\n",
    "        A simple environment\n",
    "        :param n: The size of the world.\n",
    "        :param init_pos: The initial position of the agent. The agent start at the top-left corner by default.\n",
    "        :param target_pos: The position of the goal. The goals is set to the bottom-right corner by default.\n",
    "        \"\"\"\n",
    "        self.n = n\n",
    "        self.init_pos = init_pos\n",
    "        self.pos = init_pos\n",
    "        if target_pos is None:\n",
    "            self.target_pos = (n - 1, n - 1)\n",
    "        else:\n",
    "            self.target_pos = target_pos\n",
    "\n",
    "    def reset(self, pos=None):\n",
    "        \"\"\"\n",
    "        This method resets the environment.\n",
    "        :param pos: If we set the position, the agent will start not from the default position by from the\n",
    "        position set. This is useful when we will add some randomness in the training.\n",
    "        :return:\n",
    "        \"\"\"\n",
    "        if pos is None:\n",
    "            self.pos = self.init_pos\n",
    "        else:\n",
    "            self.pos = pos\n",
    "        return self.pos\n",
    "\n",
    "    def get_available_actions(self):\n",
    "        \"\"\"\n",
    "        This method returns the set of available actions the agent can perform given its current position.\n",
    "        :return: The set of available actions.\n",
    "        \"\"\"\n",
    "        # if the agent has reached the vent, then no actions are available.\n",
    "        if self.pos == self.target_pos:\n",
    "            res = {}\n",
    "        else:\n",
    "            # all actions\n",
    "            res = {'up', 'down', 'right', 'left'}\n",
    "            # remove actions if the agent is at the edges of the world.\n",
    "            if self.pos[0] == 0:\n",
    "                res.discard('left')\n",
    "            elif self.pos[0] == self.n - 1:\n",
    "                res.discard('right')\n",
    "            if self.pos[1] == 0:\n",
    "                res.discard('up')\n",
    "            elif self.pos[1] == self.n - 1:\n",
    "                res.discard('down')\n",
    "        return res\n",
    "\n",
    "    def step(self, action: str):\n",
    "        \"\"\"\n",
    "        This method executes an action and changes the state of the agent. It returns the new position of the agent and\n",
    "        the reward received.\n",
    "        :param action: The action to execute.\n",
    "        :return: The position and reward.\n",
    "        \"\"\"\n",
    "        # executes an action\n",
    "        if action == 'left':\n",
    "            self.pos = (self.pos[0] - 1, self.pos[1])\n",
    "        elif action == 'right':\n",
    "            self.pos = (self.pos[0] + 1, self.pos[1])\n",
    "        elif action == 'down':\n",
    "            self.pos = (self.pos[0], self.pos[1] + 1)\n",
    "        elif action == 'up':\n",
    "            self.pos = (self.pos[0], self.pos[1] - 1)\n",
    "\n",
    "        # if the agent has achieved the goal, it returns a reward of 100, zero otherwise.\n",
    "        if self.pos == self.target_pos:\n",
    "            return self.pos, 100\n",
    "        else:\n",
    "            return self.pos, 0\n",
    "\n",
    "    def render(self):\n",
    "        \"\"\"\n",
    "        This method renders the environment and the agent.\n",
    "        \"\"\"\n",
    "        n = self.n\n",
    "        agent = OffsetImage(plt.imread('imgs/agent.png'), zoom=1 / (2 * n))\n",
    "        target = OffsetImage(plt.imread('imgs/target.png'), zoom=10 / (2 * n))\n",
    "\n",
    "        fig = plt.figure(figsize=(10, 10))\n",
    "        ax = fig.add_subplot(1, 1, 1)\n",
    "        for j in range(n + 1):\n",
    "            ax.axvline(x=j / n)\n",
    "            ax.axhline(y=j / n)\n",
    "\n",
    "        ab_target = AnnotationBbox(target,\n",
    "                                   xy=((self.target_pos[0] + 0.5) / n, 1 - (self.target_pos[1] + 0.7) / n),\n",
    "                                   frameon=False)\n",
    "        ax.add_artist(ab_target)\n",
    "\n",
    "        ab_agent = AnnotationBbox(agent,\n",
    "                                  xy=((self.pos[0] + 0.5) / n, 1 - (self.pos[1] + 0.5) / n),\n",
    "                                  frameon=False)\n",
    "        ax.add_artist(ab_agent)\n",
    "        plt.show()"
   ],
   "metadata": {
    "collapsed": false,
    "pycharm": {
     "name": "#%%\n"
    }
   }
  },
  {
   "cell_type": "markdown",
   "source": [
    "Let's now instantiate a gird-world of size 5 and render it. If we use the default parameters, you should see the\n",
    "impostor on the top-left corner, and the vent on the bottom-right corner."
   ],
   "metadata": {
    "collapsed": false,
    "pycharm": {
     "name": "#%% md\n"
    }
   },
   "outputs": [
    {
     "data": {
      "text/plain": "<Figure size 720x720 with 1 Axes>",
      "image/png": "[encoded data removed]"
     },
     "metadata": {
      "needs_background": "light"
     },
     "output_type": "display_data"
    },
    {
     "ename": "KeyboardInterrupt",
     "evalue": "",
     "output_type": "error",
     "traceback": [
      "\u001B[0;31m---------------------------------------------------------------------------\u001B[0m",
      "\u001B[0;31mKeyboardInterrupt\u001B[0m                         Traceback (most recent call last)",
      "\u001B[0;32m<ipython-input-117-f1e48fcdb2af>\u001B[0m in \u001B[0;36m<module>\u001B[0;34m\u001B[0m\n\u001B[1;32m      7\u001B[0m     \u001B[0maction\u001B[0m \u001B[0;34m=\u001B[0m \u001B[0mrandom\u001B[0m\u001B[0;34m.\u001B[0m\u001B[0msample\u001B[0m\u001B[0;34m(\u001B[0m\u001B[0mavailable_actions\u001B[0m\u001B[0;34m,\u001B[0m \u001B[0;36m1\u001B[0m\u001B[0;34m)\u001B[0m\u001B[0;34m[\u001B[0m\u001B[0;36m0\u001B[0m\u001B[0;34m]\u001B[0m\u001B[0;34m\u001B[0m\u001B[0;34m\u001B[0m\u001B[0m\n\u001B[1;32m      8\u001B[0m     \u001B[0mreward\u001B[0m\u001B[0;34m,\u001B[0m \u001B[0mpos\u001B[0m \u001B[0;34m=\u001B[0m \u001B[0menv\u001B[0m\u001B[0;34m.\u001B[0m\u001B[0mstep\u001B[0m\u001B[0;34m(\u001B[0m\u001B[0maction\u001B[0m\u001B[0;34m)\u001B[0m\u001B[0;34m\u001B[0m\u001B[0;34m\u001B[0m\u001B[0m\n\u001B[0;32m----> 9\u001B[0;31m     \u001B[0menv\u001B[0m\u001B[0;34m.\u001B[0m\u001B[0mrender\u001B[0m\u001B[0;34m(\u001B[0m\u001B[0;34m)\u001B[0m\u001B[0;34m\u001B[0m\u001B[0;34m\u001B[0m\u001B[0m\n\u001B[0m\u001B[1;32m     10\u001B[0m     \u001B[0mprint\u001B[0m\u001B[0;34m(\u001B[0m\u001B[0mreward\u001B[0m\u001B[0;34m)\u001B[0m\u001B[0;34m\u001B[0m\u001B[0;34m\u001B[0m\u001B[0m\n\u001B[1;32m     11\u001B[0m     \u001B[0mprint\u001B[0m\u001B[0;34m(\u001B[0m\u001B[0mpos\u001B[0m\u001B[0;34m)\u001B[0m\u001B[0;34m\u001B[0m\u001B[0;34m\u001B[0m\u001B[0m\n",
      "\u001B[0;32m<ipython-input-113-2a8994c82ed2>\u001B[0m in \u001B[0;36mrender\u001B[0;34m(self)\u001B[0m\n\u001B[1;32m     57\u001B[0m         \u001B[0max\u001B[0m\u001B[0;34m.\u001B[0m\u001B[0madd_artist\u001B[0m\u001B[0;34m(\u001B[0m\u001B[0mab_target\u001B[0m\u001B[0;34m)\u001B[0m\u001B[0;34m\u001B[0m\u001B[0;34m\u001B[0m\u001B[0m\n\u001B[1;32m     58\u001B[0m         \u001B[0mplt\u001B[0m\u001B[0;34m.\u001B[0m\u001B[0mshow\u001B[0m\u001B[0;34m(\u001B[0m\u001B[0;34m)\u001B[0m\u001B[0;34m\u001B[0m\u001B[0;34m\u001B[0m\u001B[0m\n\u001B[0;32m---> 59\u001B[0;31m         \u001B[0mtime\u001B[0m\u001B[0;34m.\u001B[0m\u001B[0msleep\u001B[0m\u001B[0;34m(\u001B[0m\u001B[0;36m0.5\u001B[0m\u001B[0;34m)\u001B[0m\u001B[0;34m\u001B[0m\u001B[0;34m\u001B[0m\u001B[0m\n\u001B[0m\u001B[1;32m     60\u001B[0m \u001B[0;34m\u001B[0m\u001B[0m\n\u001B[1;32m     61\u001B[0m \u001B[0;34m\u001B[0m\u001B[0m\n",
      "\u001B[0;31mKeyboardInterrupt\u001B[0m: "
     ]
    }
   ]
  },
  {
   "cell_type": "code",
   "execution_count": null,
   "outputs": [],
   "source": [
    "env = GridWold(5)\n",
    "env.render()"
   ],
   "metadata": {
    "collapsed": false,
    "pycharm": {
     "name": "#%%\n"
    }
   }
  },
  {
   "cell_type": "markdown",
   "source": [
    "## A Random Policy\n",
    "\n",
    "We will now simulate a random policy. An agent that navigates the world performing random actions. This agent will\n",
    "execute actions for a given number of times. While executing the actions\n",
    "we will also count the number of times the agent has achieved its goal (the number of episodes).\n",
    "\n",
    "Note that we are slowing down the execution of this policy to make this policy visible; We add a 1ms delay at every\n",
    "agent step."
   ],
   "metadata": {
    "collapsed": false,
    "pycharm": {
     "name": "#%% md\n"
    }
   }
  },
  {
   "cell_type": "code",
   "execution_count": null,
   "outputs": [
    {
     "data": {
      "text/plain": "<Figure size 1000x1000 with 1 Axes>",
      "image/png": "[encoded data removed]"
     },
     "metadata": {},
     "output_type": "display_data"
    },
    {
     "name": "stderr",
     "output_type": "stream",
     "text": [
      "100%|██████████| 1000/1000 [03:14<00:00,  5.14it/s]"
     ]
    },
    {
     "name": "stdout",
     "output_type": "stream",
     "text": [
      "Iteration: 1000 of Episodes 16\n",
      "Available actions: {'right', 'down', 'left'}\n",
      "Action taken: down\n",
      "Position: (3, 1)\n",
      "Reward: 0\n"
     ]
    },
    {
     "name": "stderr",
     "output_type": "stream",
     "text": [
      "\n"
     ]
    }
   ],
   "source": [
    "import time\n",
    "import random\n",
    "from tqdm import tqdm\n",
    "from IPython import display\n",
    "\n",
    "# the number of actions the agent will execute in total\n",
    "total_steps = 1000\n",
    "\n",
    "episodes = 0\n",
    "for n in tqdm(range(total_steps)):\n",
    "    # delay\n",
    "    time.sleep(0.1)\n",
    "    display.clear_output(wait=True)\n",
    "    available_actions = env.get_available_actions()\n",
    "    # if no actions are available then the agent has reached the goal\n",
    "    if not available_actions:\n",
    "        env.reset()\n",
    "        episodes += 1\n",
    "    else:\n",
    "        action = random.sample(available_actions, 1)[0]\n",
    "        pos, reward = env.step(action)\n",
    "\n",
    "    env.render()\n",
    "    print(f'Iteration: {n+1} of Episodes {episodes}')\n",
    "    print(f'Available actions: {available_actions}')\n",
    "    print(f'Action taken: {action}')\n",
    "    print(f'Position: {pos}')\n",
    "    print(f'Reward: {reward}')"
   ],
   "metadata": {
    "collapsed": false,
    "pycharm": {
     "name": "#%%\n"
    }
   }
  },
  {
   "cell_type": "markdown",
   "source": [
    "## Q-Learning\n",
    "\n",
    "We will now implement the Q-learning algorithm to learn the Q-values. These Q-values will be stored in a table called\n",
    "`q_table`. To pick the next action the agent will choose the action that maximizes the Q-value."
   ],
   "metadata": {
    "collapsed": false,
    "pycharm": {
     "name": "#%% md\n"
    }
   }
  },
  {
   "cell_type": "code",
   "execution_count": null,
   "outputs": [
    {
     "data": {
      "text/plain": "<Figure size 1000x1000 with 1 Axes>",
      "image/png": "[encoded data removed]"
     },
     "metadata": {},
     "output_type": "display_data"
    },
    {
     "name": "stderr",
     "output_type": "stream",
     "text": [
      "100%|██████████| 1000/1000 [06:16<00:00,  2.66it/s]"
     ]
    },
    {
     "name": "stdout",
     "output_type": "stream",
     "text": [
      "Iteration: 1000 of Episodes 90\n",
      "Available actions: {'right', 'up', 'down', 'left'}\n",
      "Action taken: right\n",
      "Reward: 0\n",
      "Position: (4, 2)\n",
      "Q-Values:\n",
      "(0, 0) {'right': 47.829690000000014, 'down': 0.0}\n",
      "(0, 1) {'right': 0.0, 'up': 43.04672100000001, 'down': 0.0}\n",
      "(0, 2) {'right': 47.829690000000014, 'up': 0.0, 'down': 0.0}\n",
      "(0, 3) {'right': 0.0, 'up': 0.0, 'down': 0.0}\n",
      "(0, 4) {'right': 0.0, 'up': 0.0}\n",
      "(1, 0) {'right': 93.30297208031644, 'down': 0.0, 'left': 0.0}\n",
      "(1, 1) {'right': 59.049000000000014, 'up': 0.0, 'down': 0.0, 'left': 0.0}\n",
      "(1, 2) {'right': 0.0, 'up': 53.144100000000016, 'down': 0.0, 'left': 0.0}\n",
      "(1, 3) {'right': 72.9, 'up': 0.0, 'down': 0.0, 'left': 0.0}\n",
      "(1, 4) {'right': 81.0, 'up': 0.0, 'left': 0.0}\n",
      "(2, 0) {'right': 0.0, 'down': 103.66996897812938, 'left': 0.0}\n",
      "(2, 1) {'right': 115.18885442014374, 'up': 0.0, 'down': 0.0, 'left': 0.0}\n",
      "(2, 2) {'right': 0, 'up': 0.0, 'down': 0.0, 'left': 0.0}\n",
      "(2, 3) {'right': 0.0, 'up': 0.0, 'down': 81.0, 'left': 0.0}\n",
      "(2, 4) {'right': 90.0, 'up': 0.0, 'left': 0}\n",
      "(3, 0) {'right': 0.0, 'down': 0.0, 'left': 0.0}\n",
      "(3, 1) {'right': 0, 'up': 0.0, 'down': 127.98761602238193, 'left': 0.0}\n",
      "(3, 2) {'right': 142.20846224709103, 'up': 0, 'down': 0.0, 'left': 0}\n",
      "(3, 3) {'right': 0, 'up': 72.9, 'down': 0.0, 'left': 0.0}\n",
      "(3, 4) {'right': 100.0, 'up': 0.0, 'left': 0.0}\n",
      "(4, 0) {'down': 0.0, 'left': 0.0}\n",
      "(4, 1) {'up': 0, 'down': 81.0, 'left': 0}\n",
      "(4, 2) {'up': 0, 'down': 158.00940249676782, 'left': 0}\n",
      "(4, 3) {'up': 0, 'down': 175.57540738505634, 'left': 0}\n",
      "(4, 4) {'right': 83.9726748722848, 'down': 0.0}\n"
     ]
    },
    {
     "name": "stderr",
     "output_type": "stream",
     "text": [
      "\n"
     ]
    }
   ],
   "source": [
    "def key_with_max_value(d):\n",
    "    max_value = max(d.values())\n",
    "    max_keys = []\n",
    "    for key, value in d.items():\n",
    "        if value == max_value:\n",
    "            max_keys.append(key)\n",
    "    return random.sample(max_keys, 1)[0]\n",
    "\n",
    "# learning rate\n",
    "l = 0.9\n",
    "# the number of actions the agent will execute in total\n",
    "total_steps = 1000\n",
    "# q-values\n",
    "q_table = {}\n",
    "\n",
    "# reset env\n",
    "pos = env.reset()\n",
    "\n",
    "# render env\n",
    "env.render()\n",
    "time.sleep(0.1)\n",
    "display.clear_output(wait=True)\n",
    "\n",
    "episodes = 0\n",
    "for n in tqdm(range(total_steps)):\n",
    "    # delay\n",
    "    time.sleep(0.1)\n",
    "    display.clear_output(wait=True)\n",
    "    # get available actions\n",
    "    available_actions = env.get_available_actions()\n",
    "    # if no actions are available then the agent has reached the goal\n",
    "    if not available_actions:\n",
    "        episodes += 1\n",
    "        env.reset()\n",
    "    else:\n",
    "        # if this state exists in the q_table extract the actions\n",
    "        if pos in q_table:\n",
    "            action_probs = q_table[pos]\n",
    "        else:  # else initialize the probs to 0\n",
    "            action_probs = {a: 0 for a in available_actions}\n",
    "            q_table[pos] = action_probs\n",
    "\n",
    "        # select the best action\n",
    "        action = key_with_max_value(action_probs)\n",
    "        # execute this action\n",
    "        pos, reward = env.step(action)\n",
    "        # update the q-value\n",
    "        if pos in q_table:\n",
    "            action_probs[action] = reward + l * max(q_table[pos].values())\n",
    "        else:\n",
    "            action_probs[action] = reward\n",
    "\n",
    "    # print statistics\n",
    "    env.render()\n",
    "    print(f'Iteration: {n + 1} of Episodes {episodes}')\n",
    "    print(f'Available actions: {available_actions}')\n",
    "    print(f'Action taken: {action}')\n",
    "    print(f'Reward: {reward}')\n",
    "    print(f'Position: {pos}')\n",
    "    print(f'Q-Values:')\n",
    "    for key in sorted(q_table):\n",
    "        print(key, q_table[key])"
   ],
   "metadata": {
    "collapsed": false,
    "pycharm": {
     "name": "#%%\n"
    }
   }
  },
  {
   "cell_type": "markdown",
   "source": [
    "Now that we have trained the agent we can test it. Compare the performance of this agent against the random policy."
   ],
   "metadata": {
    "collapsed": false,
    "pycharm": {
     "name": "#%% md\n"
    }
   }
  },
  {
   "cell_type": "code",
   "execution_count": null,
   "outputs": [
    {
     "data": {
      "text/plain": "<Figure size 1000x1000 with 1 Axes>",
      "image/png": "[encoded data removed]"
     },
     "metadata": {},
     "output_type": "display_data"
    },
    {
     "name": "stderr",
     "output_type": "stream",
     "text": [
      "100%|██████████| 1000/1000 [03:14<00:00,  5.13it/s]"
     ]
    },
    {
     "name": "stdout",
     "output_type": "stream",
     "text": [
      "Iteration: 1000 of Episodes 201\n",
      "Available actions: {'right', 'down'}\n",
      "Action taken: right\n",
      "Reward: 0\n",
      "Position: (1, 0)\n"
     ]
    },
    {
     "name": "stderr",
     "output_type": "stream",
     "text": [
      "\n"
     ]
    }
   ],
   "source": [
    "# the number of actions the agent will execute in total\n",
    "total_steps = 1000\n",
    "\n",
    "# reset env\n",
    "pos = env.reset()\n",
    "for n in tqdm(range(total_steps)):\n",
    "    time.sleep(0.1)\n",
    "    display.clear_output(wait=True)\n",
    "    # get available actions\n",
    "    available_actions = env.get_available_actions()\n",
    "    if not available_actions:\n",
    "        episodes += 1\n",
    "        env.reset()\n",
    "    else:\n",
    "        # select the best action\n",
    "        action = key_with_max_value(q_table[pos])\n",
    "        # execute this action\n",
    "        pos, reward = env.step(action)\n",
    "\n",
    "    env.render()\n",
    "    print(f'Iteration: {n + 1} of Episodes {episodes}')\n",
    "    print(f'Available actions: {available_actions}')\n",
    "    print(f'Action taken: {action}')\n",
    "    print(f'Reward: {reward}')\n",
    "    print(f'Position: {pos}')"
   ],
   "metadata": {
    "collapsed": false,
    "pycharm": {
     "name": "#%%\n"
    }
   }
  },
  {
   "cell_type": "markdown",
   "source": [
    "## An example of Ready-Made Environments (MiniGrid)\n",
    "\n",
    "Here I provide you with an example of a ready-made environment where you can test RL algorithms.\n",
    "These environments are defined by the [MiniGrid](https://github.com/maximecb/gym-minigrid).\n",
    "\n",
    "Before executing the next code, please make sure that this package is correctly installed."
   ],
   "metadata": {
    "collapsed": false,
    "pycharm": {
     "name": "#%% md\n"
    }
   }
  },
  {
   "cell_type": "code",
   "execution_count": 12,
   "outputs": [
    {
     "name": "stdout",
     "output_type": "stream",
     "text": [
      "Requirement already satisfied: gym-minigrid in /opt/anaconda3/envs/geospatial/lib/python3.8/site-packages (1.2.2)\r\n",
      "Requirement already satisfied: numpy>=1.18.0 in /opt/anaconda3/envs/geospatial/lib/python3.8/site-packages (from gym-minigrid) (1.23.4)\r\n",
      "Requirement already satisfied: gym>=0.26 in /opt/anaconda3/envs/geospatial/lib/python3.8/site-packages (from gym-minigrid) (0.26.2)\r\n",
      "Requirement already satisfied: matplotlib>=3.0 in /opt/anaconda3/envs/geospatial/lib/python3.8/site-packages (from gym-minigrid) (3.6.2)\r\n",
      "Requirement already satisfied: cloudpickle>=1.2.0 in /opt/anaconda3/envs/geospatial/lib/python3.8/site-packages (from gym>=0.26->gym-minigrid) (2.2.1)\r\n",
      "Requirement already satisfied: importlib-metadata>=4.8.0 in /opt/anaconda3/envs/geospatial/lib/python3.8/site-packages (from gym>=0.26->gym-minigrid) (5.0.0)\r\n",
      "Requirement already satisfied: gym-notices>=0.0.4 in /opt/anaconda3/envs/geospatial/lib/python3.8/site-packages (from gym>=0.26->gym-minigrid) (0.0.8)\r\n",
      "Requirement already satisfied: packaging>=20.0 in /opt/anaconda3/envs/geospatial/lib/python3.8/site-packages (from matplotlib>=3.0->gym-minigrid) (22.0)\r\n",
      "Requirement already satisfied: pillow>=6.2.0 in /opt/anaconda3/envs/geospatial/lib/python3.8/site-packages (from matplotlib>=3.0->gym-minigrid) (9.3.0)\r\n",
      "Requirement already satisfied: fonttools>=4.22.0 in /opt/anaconda3/envs/geospatial/lib/python3.8/site-packages (from matplotlib>=3.0->gym-minigrid) (4.25.0)\r\n",
      "Requirement already satisfied: cycler>=0.10 in /opt/anaconda3/envs/geospatial/lib/python3.8/site-packages (from matplotlib>=3.0->gym-minigrid) (0.11.0)\r\n",
      "Requirement already satisfied: contourpy>=1.0.1 in /opt/anaconda3/envs/geospatial/lib/python3.8/site-packages (from matplotlib>=3.0->gym-minigrid) (1.0.5)\r\n",
      "Requirement already satisfied: kiwisolver>=1.0.1 in /opt/anaconda3/envs/geospatial/lib/python3.8/site-packages (from matplotlib>=3.0->gym-minigrid) (1.4.4)\r\n",
      "Requirement already satisfied: python-dateutil>=2.7 in /opt/anaconda3/envs/geospatial/lib/python3.8/site-packages (from matplotlib>=3.0->gym-minigrid) (2.8.2)\r\n",
      "Requirement already satisfied: pyparsing>=2.2.1 in /opt/anaconda3/envs/geospatial/lib/python3.8/site-packages (from matplotlib>=3.0->gym-minigrid) (3.0.9)\r\n",
      "Requirement already satisfied: zipp>=0.5 in /opt/anaconda3/envs/geospatial/lib/python3.8/site-packages (from importlib-metadata>=4.8.0->gym>=0.26->gym-minigrid) (3.8.1)\r\n",
      "Requirement already satisfied: six>=1.5 in /opt/anaconda3/envs/geospatial/lib/python3.8/site-packages (from python-dateutil>=2.7->matplotlib>=3.0->gym-minigrid) (1.14.0)\r\n"
     ]
    }
   ],
   "source": [
    "!pip install gym-minigrid"
   ],
   "metadata": {
    "collapsed": false,
    "pycharm": {
     "name": "#%%\n"
    }
   }
  },
  {
   "cell_type": "code",
   "execution_count": 13,
   "outputs": [],
   "source": [
    "from gym_minigrid.wrappers import *\n",
    "\n",
    "env = gym.make('MiniGrid-Empty-16x16-v0')"
   ],
   "metadata": {
    "collapsed": false,
    "pycharm": {
     "name": "#%%\n"
    }
   }
  },
  {
   "cell_type": "markdown",
   "source": [
    "This is how the environment looks like at the beginning. We have a grid world with an agent in the top-left corner\n",
    "that can navigate this empty room. On the bottom-right corner we have the target location."
   ],
   "metadata": {
    "collapsed": false
   }
  },
  {
   "cell_type": "code",
   "execution_count": 14,
   "outputs": [
    {
     "ename": "ResetNeeded",
     "evalue": "Cannot call `env.render()` before calling `env.reset()`, if this is a intended action, set `disable_render_order_enforcing=True` on the OrderEnforcer wrapper.",
     "output_type": "error",
     "traceback": [
      "\u001B[0;31m---------------------------------------------------------------------------\u001B[0m",
      "\u001B[0;31mResetNeeded\u001B[0m                               Traceback (most recent call last)",
      "Cell \u001B[0;32mIn[14], line 2\u001B[0m\n\u001B[1;32m      1\u001B[0m plt\u001B[38;5;241m.\u001B[39mfigure(figsize\u001B[38;5;241m=\u001B[39m(\u001B[38;5;241m9\u001B[39m, \u001B[38;5;241m9\u001B[39m))\n\u001B[0;32m----> 2\u001B[0m plt\u001B[38;5;241m.\u001B[39mimshow(\u001B[43menv\u001B[49m\u001B[38;5;241;43m.\u001B[39;49m\u001B[43mrender\u001B[49m\u001B[43m(\u001B[49m\u001B[43mmode\u001B[49m\u001B[38;5;241;43m=\u001B[39;49m\u001B[38;5;124;43m'\u001B[39;49m\u001B[38;5;124;43mrgb_array\u001B[39;49m\u001B[38;5;124;43m'\u001B[39;49m\u001B[43m)\u001B[49m)\n\u001B[1;32m      3\u001B[0m plt\u001B[38;5;241m.\u001B[39mshow()\n",
      "File \u001B[0;32m/opt/anaconda3/envs/geospatial/lib/python3.8/site-packages/gym/wrappers/order_enforcing.py:47\u001B[0m, in \u001B[0;36mOrderEnforcing.render\u001B[0;34m(self, *args, **kwargs)\u001B[0m\n\u001B[1;32m     45\u001B[0m \u001B[38;5;124;03m\"\"\"Renders the environment with `kwargs`.\"\"\"\u001B[39;00m\n\u001B[1;32m     46\u001B[0m \u001B[38;5;28;01mif\u001B[39;00m \u001B[38;5;129;01mnot\u001B[39;00m \u001B[38;5;28mself\u001B[39m\u001B[38;5;241m.\u001B[39m_disable_render_order_enforcing \u001B[38;5;129;01mand\u001B[39;00m \u001B[38;5;129;01mnot\u001B[39;00m \u001B[38;5;28mself\u001B[39m\u001B[38;5;241m.\u001B[39m_has_reset:\n\u001B[0;32m---> 47\u001B[0m     \u001B[38;5;28;01mraise\u001B[39;00m ResetNeeded(\n\u001B[1;32m     48\u001B[0m         \u001B[38;5;124m\"\u001B[39m\u001B[38;5;124mCannot call `env.render()` before calling `env.reset()`, if this is a intended action, \u001B[39m\u001B[38;5;124m\"\u001B[39m\n\u001B[1;32m     49\u001B[0m         \u001B[38;5;124m\"\u001B[39m\u001B[38;5;124mset `disable_render_order_enforcing=True` on the OrderEnforcer wrapper.\u001B[39m\u001B[38;5;124m\"\u001B[39m\n\u001B[1;32m     50\u001B[0m     )\n\u001B[1;32m     51\u001B[0m \u001B[38;5;28;01mreturn\u001B[39;00m \u001B[38;5;28mself\u001B[39m\u001B[38;5;241m.\u001B[39menv\u001B[38;5;241m.\u001B[39mrender(\u001B[38;5;241m*\u001B[39margs, \u001B[38;5;241m*\u001B[39m\u001B[38;5;241m*\u001B[39mkwargs)\n",
      "\u001B[0;31mResetNeeded\u001B[0m: Cannot call `env.render()` before calling `env.reset()`, if this is a intended action, set `disable_render_order_enforcing=True` on the OrderEnforcer wrapper."
     ]
    },
    {
     "data": {
      "text/plain": "<Figure size 900x900 with 0 Axes>"
     },
     "metadata": {},
     "output_type": "display_data"
    }
   ],
   "source": [
    "plt.figure(figsize=(9, 9))\n",
    "plt.imshow(env.render(mode='rgb_array'))\n",
    "plt.show()"
   ],
   "metadata": {
    "collapsed": false,
    "pycharm": {
     "name": "#%%\n"
    }
   }
  },
  {
   "cell_type": "markdown",
   "source": [
    "We can access the actions available to the agent as follows:"
   ],
   "metadata": {
    "collapsed": false,
    "pycharm": {
     "name": "#%% md\n"
    }
   }
  },
  {
   "cell_type": "code",
   "execution_count": 15,
   "outputs": [
    {
     "name": "stdout",
     "output_type": "stream",
     "text": [
      "Actions.left\n",
      "Actions.right\n",
      "Actions.forward\n",
      "Actions.pickup\n",
      "Actions.drop\n",
      "Actions.toggle\n",
      "Actions.done\n"
     ]
    }
   ],
   "source": [
    "for action in list(env.actions):\n",
    "    print(action)"
   ],
   "metadata": {
    "collapsed": false,
    "pycharm": {
     "name": "#%%\n"
    }
   }
  },
  {
   "cell_type": "code",
   "execution_count": 16,
   "outputs": [
    {
     "name": "stderr",
     "output_type": "stream",
     "text": [
      "  0%|          | 0/100 [00:00<?, ?it/s]\n"
     ]
    },
    {
     "ename": "ResetNeeded",
     "evalue": "Cannot call `env.render()` before calling `env.reset()`, if this is a intended action, set `disable_render_order_enforcing=True` on the OrderEnforcer wrapper.",
     "output_type": "error",
     "traceback": [
      "\u001B[0;31m---------------------------------------------------------------------------\u001B[0m",
      "\u001B[0;31mResetNeeded\u001B[0m                               Traceback (most recent call last)",
      "Cell \u001B[0;32mIn[16], line 6\u001B[0m\n\u001B[1;32m      4\u001B[0m time\u001B[38;5;241m.\u001B[39msleep(\u001B[38;5;241m0.1\u001B[39m)\n\u001B[1;32m      5\u001B[0m display\u001B[38;5;241m.\u001B[39mclear_output(wait\u001B[38;5;241m=\u001B[39m\u001B[38;5;28;01mTrue\u001B[39;00m)\n\u001B[0;32m----> 6\u001B[0m plt\u001B[38;5;241m.\u001B[39mimshow(\u001B[43menv\u001B[49m\u001B[38;5;241;43m.\u001B[39;49m\u001B[43mrender\u001B[49m\u001B[43m(\u001B[49m\u001B[43mmode\u001B[49m\u001B[38;5;241;43m=\u001B[39;49m\u001B[38;5;124;43m'\u001B[39;49m\u001B[38;5;124;43mrgb_array\u001B[39;49m\u001B[38;5;124;43m'\u001B[39;49m\u001B[43m)\u001B[49m)\n\u001B[1;32m      7\u001B[0m plt\u001B[38;5;241m.\u001B[39mshow()\n\u001B[1;32m      8\u001B[0m action \u001B[38;5;241m=\u001B[39m env\u001B[38;5;241m.\u001B[39maction_space\u001B[38;5;241m.\u001B[39msample()\n",
      "File \u001B[0;32m/opt/anaconda3/envs/geospatial/lib/python3.8/site-packages/gym/wrappers/order_enforcing.py:47\u001B[0m, in \u001B[0;36mOrderEnforcing.render\u001B[0;34m(self, *args, **kwargs)\u001B[0m\n\u001B[1;32m     45\u001B[0m \u001B[38;5;124;03m\"\"\"Renders the environment with `kwargs`.\"\"\"\u001B[39;00m\n\u001B[1;32m     46\u001B[0m \u001B[38;5;28;01mif\u001B[39;00m \u001B[38;5;129;01mnot\u001B[39;00m \u001B[38;5;28mself\u001B[39m\u001B[38;5;241m.\u001B[39m_disable_render_order_enforcing \u001B[38;5;129;01mand\u001B[39;00m \u001B[38;5;129;01mnot\u001B[39;00m \u001B[38;5;28mself\u001B[39m\u001B[38;5;241m.\u001B[39m_has_reset:\n\u001B[0;32m---> 47\u001B[0m     \u001B[38;5;28;01mraise\u001B[39;00m ResetNeeded(\n\u001B[1;32m     48\u001B[0m         \u001B[38;5;124m\"\u001B[39m\u001B[38;5;124mCannot call `env.render()` before calling `env.reset()`, if this is a intended action, \u001B[39m\u001B[38;5;124m\"\u001B[39m\n\u001B[1;32m     49\u001B[0m         \u001B[38;5;124m\"\u001B[39m\u001B[38;5;124mset `disable_render_order_enforcing=True` on the OrderEnforcer wrapper.\u001B[39m\u001B[38;5;124m\"\u001B[39m\n\u001B[1;32m     50\u001B[0m     )\n\u001B[1;32m     51\u001B[0m \u001B[38;5;28;01mreturn\u001B[39;00m \u001B[38;5;28mself\u001B[39m\u001B[38;5;241m.\u001B[39menv\u001B[38;5;241m.\u001B[39mrender(\u001B[38;5;241m*\u001B[39margs, \u001B[38;5;241m*\u001B[39m\u001B[38;5;241m*\u001B[39mkwargs)\n",
      "\u001B[0;31mResetNeeded\u001B[0m: Cannot call `env.render()` before calling `env.reset()`, if this is a intended action, set `disable_render_order_enforcing=True` on the OrderEnforcer wrapper."
     ]
    }
   ],
   "source": [
    "total_steps = 100\n",
    "\n",
    "for n in tqdm(range(total_steps)):\n",
    "    time.sleep(0.1)\n",
    "    display.clear_output(wait=True)\n",
    "    plt.imshow(env.render(mode='rgb_array'))\n",
    "    plt.show()\n",
    "    action = env.action_space.sample()\n",
    "    _, reward, _, _ = env.step(action)\n",
    "\n",
    "    print(f'Iteration: {n + 1} of Episodes {episodes}')\n",
    "    print(f'Action taken: {action}')\n",
    "    print(f'Reward: {reward}')"
   ],
   "metadata": {
    "collapsed": false,
    "pycharm": {
     "name": "#%%\n"
    }
   }
  },
  {
   "cell_type": "markdown",
   "source": [
    "## Deep Q-Learning with TF-Agents\n",
    "\n",
    "This example shows how to train a\n",
    "[DQN (Deep Q Networks)](https://storage.googleapis.com/deepmind-media/dqn/DQNNaturePaper.pdf)\n",
    "agent using the TF-Agents library.\n",
    "\n",
    "Before executing the next code, please make sure that these packages are correctly installed."
   ],
   "metadata": {
    "collapsed": false,
    "pycharm": {
     "name": "#%% md\n"
    }
   }
  },
  {
   "cell_type": "code",
   "execution_count": 17,
   "outputs": [
    {
     "name": "stdout",
     "output_type": "stream",
     "text": [
      "Collecting tensorflow\r\n",
      "  Downloading tensorflow-2.11.0-cp38-cp38-macosx_10_14_x86_64.whl (244.3 MB)\r\n",
      "\u001B[2K     \u001B[90m━━━━━━━━━━━━━━━━━━━━━━━━━━━━━━━━━━━━━━━\u001B[0m \u001B[32m244.3/244.3 MB\u001B[0m \u001B[31m4.5 MB/s\u001B[0m eta \u001B[36m0:00:00\u001B[0m00:01\u001B[0m00:01\u001B[0m\r\n",
      "\u001B[?25hCollecting absl-py>=1.0.0\r\n",
      "  Downloading absl_py-1.4.0-py3-none-any.whl (126 kB)\r\n",
      "\u001B[2K     \u001B[90m━━━━━━━━━━━━━━━━━━━━━━━━━━━━━━━━━━━━━━\u001B[0m \u001B[32m126.5/126.5 kB\u001B[0m \u001B[31m11.4 MB/s\u001B[0m eta \u001B[36m0:00:00\u001B[0m\r\n",
      "\u001B[?25hCollecting protobuf<3.20,>=3.9.2\r\n",
      "  Downloading protobuf-3.19.6-cp38-cp38-macosx_10_9_x86_64.whl (980 kB)\r\n",
      "\u001B[2K     \u001B[90m━━━━━━━━━━━━━━━━━━━━━━━━━━━━━━━━━━━━━━\u001B[0m \u001B[32m980.4/980.4 kB\u001B[0m \u001B[31m26.3 MB/s\u001B[0m eta \u001B[36m0:00:00\u001B[0m00:01\u001B[0m\r\n",
      "\u001B[?25hRequirement already satisfied: opt-einsum>=2.3.2 in /opt/anaconda3/envs/geospatial/lib/python3.8/site-packages (from tensorflow) (3.3.0)\r\n",
      "Collecting astunparse>=1.6.0\r\n",
      "  Downloading astunparse-1.6.3-py2.py3-none-any.whl (12 kB)\r\n",
      "Collecting tensorflow-io-gcs-filesystem>=0.23.1\r\n",
      "  Downloading tensorflow_io_gcs_filesystem-0.31.0-cp38-cp38-macosx_10_14_x86_64.whl (1.6 MB)\r\n",
      "\u001B[2K     \u001B[90m━━━━━━━━━━━━━━━━━━━━━━━━━━━━━━━━━━━━━━━━\u001B[0m \u001B[32m1.6/1.6 MB\u001B[0m \u001B[31m16.9 MB/s\u001B[0m eta \u001B[36m0:00:00\u001B[0ma \u001B[36m0:00:01\u001B[0m\r\n",
      "\u001B[?25hCollecting keras<2.12,>=2.11.0\r\n",
      "  Downloading keras-2.11.0-py2.py3-none-any.whl (1.7 MB)\r\n",
      "\u001B[2K     \u001B[90m━━━━━━━━━━━━━━━━━━━━━━━━━━━━━━━━━━━━━━━━\u001B[0m \u001B[32m1.7/1.7 MB\u001B[0m \u001B[31m28.2 MB/s\u001B[0m eta \u001B[36m0:00:00\u001B[0ma \u001B[36m0:00:01\u001B[0m\r\n",
      "\u001B[?25hCollecting google-pasta>=0.1.1\r\n",
      "  Downloading google_pasta-0.2.0-py3-none-any.whl (57 kB)\r\n",
      "\u001B[2K     \u001B[90m━━━━━━━━━━━━━━━━━━━━━━━━━━━━━━━━━━━━━━━━\u001B[0m \u001B[32m57.5/57.5 kB\u001B[0m \u001B[31m9.0 MB/s\u001B[0m eta \u001B[36m0:00:00\u001B[0m\r\n",
      "\u001B[?25hCollecting tensorboard<2.12,>=2.11\r\n",
      "  Downloading tensorboard-2.11.2-py3-none-any.whl (6.0 MB)\r\n",
      "\u001B[2K     \u001B[90m━━━━━━━━━━━━━━━━━━━━━━━━━━━━━━━━━━━━━━━━\u001B[0m \u001B[32m6.0/6.0 MB\u001B[0m \u001B[31m22.6 MB/s\u001B[0m eta \u001B[36m0:00:00\u001B[0ma \u001B[36m0:00:01\u001B[0m\r\n",
      "\u001B[?25hCollecting h5py>=2.9.0\r\n",
      "  Downloading h5py-3.8.0-cp38-cp38-macosx_10_9_x86_64.whl (3.2 MB)\r\n",
      "\u001B[2K     \u001B[90m━━━━━━━━━━━━━━━━━━━━━━━━━━━━━━━━━━━━━━━━\u001B[0m \u001B[32m3.2/3.2 MB\u001B[0m \u001B[31m15.1 MB/s\u001B[0m eta \u001B[36m0:00:00\u001B[0ma \u001B[36m0:00:01\u001B[0m\r\n",
      "\u001B[?25hCollecting termcolor>=1.1.0\r\n",
      "  Downloading termcolor-2.2.0-py3-none-any.whl (6.6 kB)\r\n",
      "Collecting grpcio<2.0,>=1.24.3\r\n",
      "  Downloading grpcio-1.51.3-cp38-cp38-macosx_10_10_universal2.whl (8.2 MB)\r\n",
      "\u001B[2K     \u001B[90m━━━━━━━━━━━━━━━━━━━━━━━━━━━━━━━━━━━━━━━━\u001B[0m \u001B[32m8.2/8.2 MB\u001B[0m \u001B[31m11.2 MB/s\u001B[0m eta \u001B[36m0:00:00\u001B[0ma \u001B[36m0:00:01\u001B[0m\r\n",
      "\u001B[?25hCollecting gast<=0.4.0,>=0.2.1\r\n",
      "  Downloading gast-0.4.0-py3-none-any.whl (9.8 kB)\r\n",
      "Collecting libclang>=13.0.0\r\n",
      "  Downloading libclang-15.0.6.1-py2.py3-none-macosx_10_9_x86_64.whl (25.0 MB)\r\n",
      "\u001B[2K     \u001B[90m━━━━━━━━━━━━━━━━━━━━━━━━━━━━━━━━━━━━━━━━\u001B[0m \u001B[32m25.0/25.0 MB\u001B[0m \u001B[31m14.8 MB/s\u001B[0m eta \u001B[36m0:00:00\u001B[0m00:01\u001B[0m00:01\u001B[0m\r\n",
      "\u001B[?25hRequirement already satisfied: wrapt>=1.11.0 in /opt/anaconda3/envs/geospatial/lib/python3.8/site-packages (from tensorflow) (1.11.2)\r\n",
      "Requirement already satisfied: packaging in /opt/anaconda3/envs/geospatial/lib/python3.8/site-packages (from tensorflow) (22.0)\r\n",
      "Collecting flatbuffers>=2.0\r\n",
      "  Downloading flatbuffers-23.3.3-py2.py3-none-any.whl (26 kB)\r\n",
      "Requirement already satisfied: typing-extensions>=3.6.6 in /opt/anaconda3/envs/geospatial/lib/python3.8/site-packages (from tensorflow) (4.4.0)\r\n",
      "Collecting tensorflow-estimator<2.12,>=2.11.0\r\n",
      "  Downloading tensorflow_estimator-2.11.0-py2.py3-none-any.whl (439 kB)\r\n",
      "\u001B[2K     \u001B[90m━━━━━━━━━━━━━━━━━━━━━━━━━━━━━━━━━━━━━━━\u001B[0m \u001B[32m439.2/439.2 kB\u001B[0m \u001B[31m9.9 MB/s\u001B[0m eta \u001B[36m0:00:00\u001B[0ma \u001B[36m0:00:01\u001B[0m\r\n",
      "\u001B[?25hRequirement already satisfied: six>=1.12.0 in /opt/anaconda3/envs/geospatial/lib/python3.8/site-packages (from tensorflow) (1.14.0)\r\n",
      "Requirement already satisfied: numpy>=1.20 in /opt/anaconda3/envs/geospatial/lib/python3.8/site-packages (from tensorflow) (1.23.4)\r\n",
      "Requirement already satisfied: setuptools in /opt/anaconda3/envs/geospatial/lib/python3.8/site-packages (from tensorflow) (65.5.0)\r\n",
      "Requirement already satisfied: wheel<1.0,>=0.23.0 in /opt/anaconda3/envs/geospatial/lib/python3.8/site-packages (from astunparse>=1.6.0->tensorflow) (0.37.1)\r\n",
      "Collecting google-auth<3,>=1.6.3\r\n",
      "  Downloading google_auth-2.16.2-py2.py3-none-any.whl (177 kB)\r\n",
      "\u001B[2K     \u001B[90m━━━━━━━━━━━━━━━━━━━━━━━━━━━━━━━━━━━━━━\u001B[0m \u001B[32m177.2/177.2 kB\u001B[0m \u001B[31m11.8 MB/s\u001B[0m eta \u001B[36m0:00:00\u001B[0m\r\n",
      "\u001B[?25hCollecting markdown>=2.6.8\r\n",
      "  Downloading Markdown-3.4.1-py3-none-any.whl (93 kB)\r\n",
      "\u001B[2K     \u001B[90m━━━━━━━━━━━━━━━━━━━━━━━━━━━━━━━━━━━━━━━━\u001B[0m \u001B[32m93.3/93.3 kB\u001B[0m \u001B[31m10.4 MB/s\u001B[0m eta \u001B[36m0:00:00\u001B[0m\r\n",
      "\u001B[?25hCollecting tensorboard-data-server<0.7.0,>=0.6.0\r\n",
      "  Downloading tensorboard_data_server-0.6.1-py3-none-macosx_10_9_x86_64.whl (3.5 MB)\r\n",
      "\u001B[2K     \u001B[90m━━━━━━━━━━━━━━━━━━━━━━━━━━━━━━━━━━━━━━━━\u001B[0m \u001B[32m3.5/3.5 MB\u001B[0m \u001B[31m11.6 MB/s\u001B[0m eta \u001B[36m0:00:00\u001B[0ma \u001B[36m0:00:01\u001B[0m\r\n",
      "\u001B[?25hCollecting werkzeug>=1.0.1\r\n",
      "  Downloading Werkzeug-2.2.3-py3-none-any.whl (233 kB)\r\n",
      "\u001B[2K     \u001B[90m━━━━━━━━━━━━━━━━━━━━━━━━━━━━━━━━━━━━━━━\u001B[0m \u001B[32m233.6/233.6 kB\u001B[0m \u001B[31m7.4 MB/s\u001B[0m eta \u001B[36m0:00:00\u001B[0m\r\n",
      "\u001B[?25hCollecting tensorboard-plugin-wit>=1.6.0\r\n",
      "  Downloading tensorboard_plugin_wit-1.8.1-py3-none-any.whl (781 kB)\r\n",
      "\u001B[2K     \u001B[90m━━━━━━━━━━━━━━━━━━━━━━━━━━━━━━━━━━━━━━━\u001B[0m \u001B[32m781.3/781.3 kB\u001B[0m \u001B[31m7.3 MB/s\u001B[0m eta \u001B[36m0:00:00\u001B[0ma \u001B[36m0:00:01\u001B[0m\r\n",
      "\u001B[?25hCollecting google-auth-oauthlib<0.5,>=0.4.1\r\n",
      "  Downloading google_auth_oauthlib-0.4.6-py2.py3-none-any.whl (18 kB)\r\n",
      "Requirement already satisfied: requests<3,>=2.21.0 in /opt/anaconda3/envs/geospatial/lib/python3.8/site-packages (from tensorboard<2.12,>=2.11->tensorflow) (2.28.2)\r\n",
      "Collecting rsa<5,>=3.1.4\r\n",
      "  Downloading rsa-4.9-py3-none-any.whl (34 kB)\r\n",
      "Collecting cachetools<6.0,>=2.0.0\r\n",
      "  Downloading cachetools-5.3.0-py3-none-any.whl (9.3 kB)\r\n",
      "Requirement already satisfied: pyasn1-modules>=0.2.1 in /opt/anaconda3/envs/geospatial/lib/python3.8/site-packages (from google-auth<3,>=1.6.3->tensorboard<2.12,>=2.11->tensorflow) (0.2.8)\r\n",
      "Collecting requests-oauthlib>=0.7.0\r\n",
      "  Downloading requests_oauthlib-1.3.1-py2.py3-none-any.whl (23 kB)\r\n",
      "Requirement already satisfied: importlib-metadata>=4.4 in /opt/anaconda3/envs/geospatial/lib/python3.8/site-packages (from markdown>=2.6.8->tensorboard<2.12,>=2.11->tensorflow) (5.0.0)\r\n",
      "Requirement already satisfied: certifi>=2017.4.17 in /opt/anaconda3/envs/geospatial/lib/python3.8/site-packages (from requests<3,>=2.21.0->tensorboard<2.12,>=2.11->tensorflow) (2022.12.7)\r\n",
      "Requirement already satisfied: urllib3<1.27,>=1.21.1 in /opt/anaconda3/envs/geospatial/lib/python3.8/site-packages (from requests<3,>=2.21.0->tensorboard<2.12,>=2.11->tensorflow) (1.25.8)\r\n",
      "Requirement already satisfied: charset-normalizer<4,>=2 in /opt/anaconda3/envs/geospatial/lib/python3.8/site-packages (from requests<3,>=2.21.0->tensorboard<2.12,>=2.11->tensorflow) (2.0.4)\r\n",
      "Requirement already satisfied: idna<4,>=2.5 in /opt/anaconda3/envs/geospatial/lib/python3.8/site-packages (from requests<3,>=2.21.0->tensorboard<2.12,>=2.11->tensorflow) (2.10)\r\n",
      "Requirement already satisfied: MarkupSafe>=2.1.1 in /opt/anaconda3/envs/geospatial/lib/python3.8/site-packages (from werkzeug>=1.0.1->tensorboard<2.12,>=2.11->tensorflow) (2.1.1)\r\n",
      "Requirement already satisfied: zipp>=0.5 in /opt/anaconda3/envs/geospatial/lib/python3.8/site-packages (from importlib-metadata>=4.4->markdown>=2.6.8->tensorboard<2.12,>=2.11->tensorflow) (3.8.1)\r\n",
      "Requirement already satisfied: pyasn1<0.5.0,>=0.4.6 in /opt/anaconda3/envs/geospatial/lib/python3.8/site-packages (from pyasn1-modules>=0.2.1->google-auth<3,>=1.6.3->tensorboard<2.12,>=2.11->tensorflow) (0.4.8)\r\n",
      "Requirement already satisfied: oauthlib>=3.0.0 in /opt/anaconda3/envs/geospatial/lib/python3.8/site-packages (from requests-oauthlib>=0.7.0->google-auth-oauthlib<0.5,>=0.4.1->tensorboard<2.12,>=2.11->tensorflow) (3.2.2)\r\n",
      "Installing collected packages: tensorboard-plugin-wit, libclang, flatbuffers, werkzeug, termcolor, tensorflow-io-gcs-filesystem, tensorflow-estimator, tensorboard-data-server, rsa, protobuf, keras, h5py, grpcio, google-pasta, gast, cachetools, astunparse, absl-py, requests-oauthlib, markdown, google-auth, google-auth-oauthlib, tensorboard, tensorflow\r\n",
      "Successfully installed absl-py-1.4.0 astunparse-1.6.3 cachetools-5.3.0 flatbuffers-23.3.3 gast-0.4.0 google-auth-2.16.2 google-auth-oauthlib-0.4.6 google-pasta-0.2.0 grpcio-1.51.3 h5py-3.8.0 keras-2.11.0 libclang-15.0.6.1 markdown-3.4.1 protobuf-3.19.6 requests-oauthlib-1.3.1 rsa-4.9 tensorboard-2.11.2 tensorboard-data-server-0.6.1 tensorboard-plugin-wit-1.8.1 tensorflow-2.11.0 tensorflow-estimator-2.11.0 tensorflow-io-gcs-filesystem-0.31.0 termcolor-2.2.0 werkzeug-2.2.3\r\n",
      "Collecting tf-agents\r\n",
      "  Downloading tf_agents-0.15.0-py3-none-any.whl (1.4 MB)\r\n",
      "\u001B[2K     \u001B[90m━━━━━━━━━━━━━━━━━━━━━━━━━━━━━━━━━━━━━━━━\u001B[0m \u001B[32m1.4/1.4 MB\u001B[0m \u001B[31m3.1 MB/s\u001B[0m eta \u001B[36m0:00:00\u001B[0mta \u001B[36m0:00:01\u001B[0m\r\n",
      "\u001B[?25hRequirement already satisfied: protobuf>=3.11.3 in /opt/anaconda3/envs/geospatial/lib/python3.8/site-packages (from tf-agents) (3.19.6)\r\n",
      "Collecting gym<=0.23.0,>=0.17.0\r\n",
      "  Downloading gym-0.23.0.tar.gz (624 kB)\r\n",
      "\u001B[2K     \u001B[90m━━━━━━━━━━━━━━━━━━━━━━━━━━━━━━━━━━━━━━\u001B[0m \u001B[32m624.4/624.4 kB\u001B[0m \u001B[31m12.8 MB/s\u001B[0m eta \u001B[36m0:00:00\u001B[0m00:01\u001B[0m\r\n",
      "\u001B[?25h  Installing build dependencies ... \u001B[?25ldone\r\n",
      "\u001B[?25h  Getting requirements to build wheel ... \u001B[?25ldone\r\n",
      "\u001B[?25h  Preparing metadata (pyproject.toml) ... \u001B[?25ldone\r\n",
      "\u001B[?25hRequirement already satisfied: numpy>=1.13.3 in /opt/anaconda3/envs/geospatial/lib/python3.8/site-packages (from tf-agents) (1.23.4)\r\n",
      "Requirement already satisfied: six>=1.10.0 in /opt/anaconda3/envs/geospatial/lib/python3.8/site-packages (from tf-agents) (1.14.0)\r\n",
      "Collecting pygame==2.1.0\r\n",
      "  Downloading pygame-2.1.0-cp38-cp38-macosx_10_9_x86_64.whl (5.2 MB)\r\n",
      "\u001B[2K     \u001B[90m━━━━━━━━━━━━━━━━━━━━━━━━━━━━━━━━━━━━━━━━\u001B[0m \u001B[32m5.2/5.2 MB\u001B[0m \u001B[31m5.2 MB/s\u001B[0m eta \u001B[36m0:00:00\u001B[0m00:01\u001B[0m00:01\u001B[0mm\r\n",
      "\u001B[?25hCollecting gin-config>=0.4.0\r\n",
      "  Downloading gin_config-0.5.0-py3-none-any.whl (61 kB)\r\n",
      "\u001B[2K     \u001B[90m━━━━━━━━━━━━━━━━━━━━━━━━━━━━━━━━━━━━━━━━\u001B[0m \u001B[32m61.3/61.3 kB\u001B[0m \u001B[31m7.0 MB/s\u001B[0m eta \u001B[36m0:00:00\u001B[0m\r\n",
      "\u001B[?25hRequirement already satisfied: wrapt>=1.11.1 in /opt/anaconda3/envs/geospatial/lib/python3.8/site-packages (from tf-agents) (1.11.2)\r\n",
      "Requirement already satisfied: absl-py>=0.6.1 in /opt/anaconda3/envs/geospatial/lib/python3.8/site-packages (from tf-agents) (1.4.0)\r\n",
      "Collecting tensorflow-probability>=0.18.0\r\n",
      "  Downloading tensorflow_probability-0.19.0-py2.py3-none-any.whl (6.7 MB)\r\n",
      "\u001B[2K     \u001B[90m━━━━━━━━━━━━━━━━━━━━━━━━━━━━━━━━━━━━━━━━\u001B[0m \u001B[32m6.7/6.7 MB\u001B[0m \u001B[31m13.7 MB/s\u001B[0m eta \u001B[36m0:00:00\u001B[0ma \u001B[36m0:00:01\u001B[0m\r\n",
      "\u001B[?25hRequirement already satisfied: typing-extensions>=3.7.4.3 in /opt/anaconda3/envs/geospatial/lib/python3.8/site-packages (from tf-agents) (4.4.0)\r\n",
      "Requirement already satisfied: cloudpickle>=1.3 in /opt/anaconda3/envs/geospatial/lib/python3.8/site-packages (from tf-agents) (2.2.1)\r\n",
      "Requirement already satisfied: pillow in /opt/anaconda3/envs/geospatial/lib/python3.8/site-packages (from tf-agents) (9.3.0)\r\n",
      "Requirement already satisfied: gym-notices>=0.0.4 in /opt/anaconda3/envs/geospatial/lib/python3.8/site-packages (from gym<=0.23.0,>=0.17.0->tf-agents) (0.0.8)\r\n",
      "Requirement already satisfied: importlib-metadata>=4.10.0 in /opt/anaconda3/envs/geospatial/lib/python3.8/site-packages (from gym<=0.23.0,>=0.17.0->tf-agents) (5.0.0)\r\n",
      "Collecting dm-tree\r\n",
      "  Downloading dm_tree-0.1.8-cp38-cp38-macosx_10_9_x86_64.whl (115 kB)\r\n",
      "\u001B[2K     \u001B[90m━━━━━━━━━━━━━━━━━━━━━━━━━━━━━━━━━━━━━━\u001B[0m \u001B[32m115.4/115.4 kB\u001B[0m \u001B[31m16.3 MB/s\u001B[0m eta \u001B[36m0:00:00\u001B[0m\r\n",
      "\u001B[?25hRequirement already satisfied: decorator in /opt/anaconda3/envs/geospatial/lib/python3.8/site-packages (from tensorflow-probability>=0.18.0->tf-agents) (5.1.1)\r\n",
      "Requirement already satisfied: gast>=0.3.2 in /opt/anaconda3/envs/geospatial/lib/python3.8/site-packages (from tensorflow-probability>=0.18.0->tf-agents) (0.4.0)\r\n",
      "Requirement already satisfied: zipp>=0.5 in /opt/anaconda3/envs/geospatial/lib/python3.8/site-packages (from importlib-metadata>=4.10.0->gym<=0.23.0,>=0.17.0->tf-agents) (3.8.1)\r\n",
      "Building wheels for collected packages: gym\r\n",
      "  Building wheel for gym (pyproject.toml) ... \u001B[?25ldone\r\n",
      "\u001B[?25h  Created wheel for gym: filename=gym-0.23.0-py3-none-any.whl size=697642 sha256=9cba43b556a07184888370dde1d0766db04c869ff82acf10b83b98fcf1a7efd0\r\n",
      "  Stored in directory: /Users/zonghe/Library/Caches/pip/wheels/b1/5d/7f/0996b5daf2a0a286d7c23cedf5869acf21141bd01b4b339473\r\n",
      "Successfully built gym\r\n",
      "Installing collected packages: gin-config, dm-tree, tensorflow-probability, pygame, gym, tf-agents\r\n",
      "  Attempting uninstall: gym\r\n",
      "    Found existing installation: gym 0.26.2\r\n",
      "    Uninstalling gym-0.26.2:\r\n",
      "      Successfully uninstalled gym-0.26.2\r\n",
      "\u001B[31mERROR: pip's dependency resolver does not currently take into account all the packages that are installed. This behaviour is the source of the following dependency conflicts.\r\n",
      "gym-minigrid 1.2.2 requires gym>=0.26, but you have gym 0.23.0 which is incompatible.\u001B[0m\u001B[31m\r\n",
      "\u001B[0mSuccessfully installed dm-tree-0.1.8 gin-config-0.5.0 gym-0.23.0 pygame-2.1.0 tensorflow-probability-0.19.0 tf-agents-0.15.0\r\n",
      "Collecting pyglet==1.5.11\r\n",
      "  Downloading pyglet-1.5.11-py3-none-any.whl (1.1 MB)\r\n",
      "\u001B[2K     \u001B[90m━━━━━━━━━━━━━━━━━━━━━━━━━━━━━━━━━━━━━━━━\u001B[0m \u001B[32m1.1/1.1 MB\u001B[0m \u001B[31m2.4 MB/s\u001B[0m eta \u001B[36m0:00:00\u001B[0ma \u001B[36m0:00:01\u001B[0m0m\r\n",
      "\u001B[?25hInstalling collected packages: pyglet\r\n",
      "  Attempting uninstall: pyglet\r\n",
      "    Found existing installation: pyglet 1.1.4\r\n",
      "    Uninstalling pyglet-1.1.4:\r\n",
      "      Successfully uninstalled pyglet-1.1.4\r\n",
      "\u001B[31mERROR: pip's dependency resolver does not currently take into account all the packages that are installed. This behaviour is the source of the following dependency conflicts.\r\n",
      "osr 0.0.1 requires Pyglet==1.1.4, but you have pyglet 1.5.11 which is incompatible.\u001B[0m\u001B[31m\r\n",
      "\u001B[0mSuccessfully installed pyglet-1.5.11\r\n"
     ]
    }
   ],
   "source": [
    "!pip install tensorflow\n",
    "!pip install tf-agents\n",
    "!pip install pyglet==1.5.11"
   ],
   "metadata": {
    "collapsed": false,
    "pycharm": {
     "name": "#%%\n"
    }
   }
  },
  {
   "cell_type": "markdown",
   "source": [
    "### The Cartpole Environment\n",
    "\n",
    "We will train a DQN agent for the Cartpole environment."
   ],
   "metadata": {
    "collapsed": false,
    "pycharm": {
     "name": "#%% md\n"
    }
   }
  },
  {
   "cell_type": "code",
   "execution_count": null,
   "outputs": [],
   "source": [
    "from tf_agents.environments import suite_gym, tf_py_environment\n",
    "\n",
    "env = suite_gym.load('CartPole-v1')\n",
    "env = tf_py_environment.TFPyEnvironment(env)\n",
    "\n",
    "env.reset()\n",
    "env.render()\n",
    "\n",
    "print('Observation Spec:', env.time_step_spec().observation)\n",
    "print('Reward Spec:', env.time_step_spec().reward)\n",
    "print('Action Spec:', env.action_spec())"
   ],
   "metadata": {
    "collapsed": false,
    "pycharm": {
     "name": "#%%\n",
     "is_executing": true
    }
   }
  },
  {
   "cell_type": "markdown",
   "source": [
    "Let's now try executing always one action."
   ],
   "metadata": {
    "collapsed": false,
    "pycharm": {
     "name": "#%% md\n"
    }
   }
  },
  {
   "cell_type": "code",
   "execution_count": null,
   "outputs": [],
   "source": [
    "import numpy as np\n",
    "time_step = env.reset()\n",
    "print('Time step:')\n",
    "print(time_step)\n",
    "\n",
    "while not time_step.is_last():\n",
    "    action = np.array(1, dtype=np.int32)\n",
    "    time_step = env.step(action)\n",
    "    env.render()"
   ],
   "metadata": {
    "collapsed": false,
    "pycharm": {
     "name": "#%%\n"
    }
   }
  },
  {
   "cell_type": "markdown",
   "source": [
    "We can see that by doing this the episode ends quickly. This naive agent fails quickly.\n",
    "\n",
    "### The DQN Agent\n",
    "\n",
    "The DQN agent can be used in any environment which has a discrete action space.\n",
    "At the heart of a DQN Agent is a QNetwork, a neural network model that can learn to predict\n",
    "Q-Values (expected returns) for all actions, given an observation from the environment.\n",
    "\n",
    "The QNetwork consists of a sequence of Dense layers, where the final layer\n",
    "will have 1 output for each possible action."
   ],
   "metadata": {
    "collapsed": false,
    "pycharm": {
     "name": "#%% md\n"
    }
   }
  },
  {
   "cell_type": "code",
   "execution_count": null,
   "outputs": [],
   "source": [
    "import tensorflow as tf\n",
    "from tf_agents.networks import sequential\n",
    "from tf_agents.specs import tensor_spec\n",
    "\n",
    "fc_layer_params = (100, 50)\n",
    "action_tensor_spec = tensor_spec.from_spec(env.action_spec())\n",
    "num_actions = action_tensor_spec.maximum - action_tensor_spec.minimum + 1\n",
    "\n",
    "\n",
    "# Define a helper function to create Dense layers configured with the right\n",
    "# activation and kernel initializer.\n",
    "def dense_layer(num_units):\n",
    "    return tf.keras.layers.Dense(\n",
    "        num_units,\n",
    "        activation=tf.keras.activations.relu,\n",
    "        kernel_initializer=tf.keras.initializers.VarianceScaling(\n",
    "            scale=2.0, mode='fan_in', distribution='truncated_normal'))\n",
    "\n",
    "\n",
    "# QNetwork consists of a sequence of Dense layers followed by a dense layer with `num_actions` units to generate one\n",
    "# q_value per available action as it's output.\n",
    "dense_layers = [dense_layer(num_units) for num_units in fc_layer_params]\n",
    "q_values_layer = tf.keras.layers.Dense(\n",
    "    num_actions,\n",
    "    activation=None,\n",
    "    kernel_initializer=tf.keras.initializers.RandomUniform(\n",
    "        minval=-0.03, maxval=0.03),\n",
    "    bias_initializer=tf.keras.initializers.Constant(-0.2))\n",
    "q_net = sequential.Sequential(dense_layers + [q_values_layer])"
   ],
   "metadata": {
    "collapsed": false,
    "pycharm": {
     "name": "#%%\n"
    }
   }
  },
  {
   "cell_type": "markdown",
   "source": [
    "Now we instantiate a `DqnAgent`. The agent constructor also requires an\n",
    "optimizer (in this case, `AdamOptimizer`), a loss function, and an integer step counter."
   ],
   "metadata": {
    "collapsed": false,
    "pycharm": {
     "name": "#%% md\n"
    }
   }
  },
  {
   "cell_type": "code",
   "execution_count": null,
   "outputs": [],
   "source": [
    "from tf_agents.agents.dqn import dqn_agent\n",
    "from tf_agents.utils import common\n",
    "\n",
    "optimizer = tf.keras.optimizers.Adam(learning_rate=1e-3)\n",
    "\n",
    "agent = dqn_agent.DqnAgent(\n",
    "    env.time_step_spec(),\n",
    "    env.action_spec(),\n",
    "    q_network=q_net,\n",
    "    optimizer=optimizer,\n",
    "    td_errors_loss_fn=common.element_wise_squared_loss)\n",
    "\n",
    "agent.initialize()"
   ],
   "metadata": {
    "collapsed": false,
    "pycharm": {
     "name": "#%%\n"
    }
   }
  },
  {
   "cell_type": "markdown",
   "source": [
    "Before training the DQN agent we can test how a random policy would behave in this environment."
   ],
   "metadata": {
    "collapsed": false,
    "pycharm": {
     "name": "#%% md\n"
    }
   }
  },
  {
   "cell_type": "code",
   "execution_count": null,
   "outputs": [],
   "source": [
    "from tf_agents.policies import random_tf_policy\n",
    "\n",
    "random_policy = random_tf_policy.RandomTFPolicy(env.time_step_spec(), env.action_spec())"
   ],
   "metadata": {
    "collapsed": false,
    "pycharm": {
     "name": "#%%\n"
    }
   }
  },
  {
   "cell_type": "markdown",
   "source": [
    "We also create a helper function that will allow us render any policy."
   ],
   "metadata": {
    "collapsed": false,
    "pycharm": {
     "name": "#%% md\n"
    }
   }
  },
  {
   "cell_type": "code",
   "execution_count": null,
   "outputs": [],
   "source": [
    "def render_policy(policy):\n",
    "    time_step = env.reset()\n",
    "    env.render()\n",
    "    while not time_step.is_last():\n",
    "        action_step = policy.action(time_step)\n",
    "        time_step = env.step(action_step.action)\n",
    "        env.render()\n",
    "\n",
    "render_policy(random_policy)"
   ],
   "metadata": {
    "collapsed": false,
    "pycharm": {
     "name": "#%%\n"
    }
   }
  },
  {
   "cell_type": "markdown",
   "source": [
    "Given a policy we are interested in evaluating what is its average return.\n",
    "To do that we run the policy for multiple episodes and average their returns."
   ],
   "metadata": {
    "collapsed": false,
    "pycharm": {
     "name": "#%% md\n"
    }
   }
  },
  {
   "cell_type": "code",
   "execution_count": null,
   "outputs": [],
   "source": [
    "def compute_avg_return(environment, policy, num_episodes=10):\n",
    "  res = 0.0\n",
    "  for _ in range(num_episodes):\n",
    "    time_step = environment.reset()\n",
    "    episode_return = 0.0\n",
    "\n",
    "    while not time_step.is_last():\n",
    "      action_step = policy.action(time_step)\n",
    "      time_step = environment.step(action_step.action)\n",
    "      episode_return += time_step.reward\n",
    "    res += episode_return\n",
    "\n",
    "  avg_return = res / num_episodes\n",
    "  return avg_return.numpy()[0]\n",
    "\n",
    "print('Average return of the random policy:', compute_avg_return(env, random_policy))\n"
   ],
   "metadata": {
    "collapsed": false,
    "pycharm": {
     "name": "#%%\n"
    }
   }
  },
  {
   "cell_type": "markdown",
   "source": [
    "### Replay Buffer\n",
    "\n",
    "The replay buffer keeps track of data collected from the environment.\n",
    "This allows the agent to train on previous experiences. This helps in stabilizing the training.\n",
    "We use the `TFUniformReplayBuffer`, as it is the most common."
   ],
   "metadata": {
    "collapsed": false,
    "pycharm": {
     "name": "#%% md\n"
    }
   }
  },
  {
   "cell_type": "code",
   "execution_count": null,
   "outputs": [],
   "source": [
    "from tf_agents.replay_buffers import tf_uniform_replay_buffer\n",
    "\n",
    "replay_buffer_max_length = 100000\n",
    "\n",
    "replay_buffer = tf_uniform_replay_buffer.TFUniformReplayBuffer(\n",
    "    data_spec=agent.collect_data_spec,\n",
    "    batch_size=env.batch_size,\n",
    "    max_length=replay_buffer_max_length)"
   ],
   "metadata": {
    "collapsed": false,
    "pycharm": {
     "name": "#%%\n"
    }
   }
  },
  {
   "cell_type": "markdown",
   "source": [
    "We can now execute the random policy in the environment for a few steps, and\n",
    "record the data in the replay buffer."
   ],
   "metadata": {
    "collapsed": false,
    "pycharm": {
     "name": "#%% md\n"
    }
   }
  },
  {
   "cell_type": "code",
   "execution_count": null,
   "outputs": [],
   "source": [
    "from tf_agents.trajectories import trajectory\n",
    "\n",
    "def collect_step(environment, policy, buffer):\n",
    "  time_step = environment.current_time_step()\n",
    "  action_step = policy.action(time_step)\n",
    "  next_time_step = environment.step(action_step.action)\n",
    "  traj = trajectory.from_transition(time_step, action_step, next_time_step)\n",
    "\n",
    "  # add trajectory to the replay buffer\n",
    "  buffer.add_batch(traj)\n",
    "\n",
    "def collect_data(env, policy, buffer, steps):\n",
    "  for _ in range(steps):\n",
    "    collect_step(env, policy, buffer)\n",
    "\n",
    "initial_collect_steps = 100\n",
    "collect_data(env, random_policy, replay_buffer, initial_collect_steps)"
   ],
   "metadata": {
    "collapsed": false,
    "pycharm": {
     "name": "#%%\n"
    }
   }
  },
  {
   "cell_type": "markdown",
   "source": [
    "### Training the DQN Agent\n",
    "\n",
    "Two things must happen during the training loop:\n",
    "-   collect data from the environment\n",
    "-   use that data to train the agent's neural network(s)\n",
    "\n",
    "This example also periodically evaluates the policy and prints the current score."
   ],
   "metadata": {
    "collapsed": false,
    "pycharm": {
     "name": "#%% md\n"
    }
   }
  },
  {
   "cell_type": "code",
   "execution_count": null,
   "outputs": [],
   "source": [
    "batch_size = 64\n",
    "\n",
    "dataset = replay_buffer.as_dataset(\n",
    "    num_parallel_calls=3,\n",
    "    sample_batch_size=batch_size,\n",
    "    num_steps=2).prefetch(3)\n",
    "\n",
    "# Reset the train step\n",
    "agent.train_step_counter.assign(0)\n",
    "\n",
    "# Evaluate the agent's policy once before training.\n",
    "avg_return = compute_avg_return(env, agent.policy)\n",
    "returns = [avg_return]\n",
    "\n",
    "collect_steps_per_iteration = 1\n",
    "num_iterations = 10000\n",
    "iterator = iter(dataset)\n",
    "agent.train_step_counter.assign(0)\n",
    "for _ in tqdm(range(num_iterations)):\n",
    "\n",
    "  # Collect a few steps using collect_policy and save to the replay buffer.\n",
    "  collect_data(env, agent.collect_policy, replay_buffer, collect_steps_per_iteration)\n",
    "\n",
    "  # Sample a batch of data from the buffer and update the agent's network.\n",
    "  experience, _ = next(iterator)\n",
    "  train_loss = agent.train(experience).loss\n",
    "\n",
    "  step = agent.train_step_counter.numpy()\n",
    "\n",
    "  if step % 200 == 0:\n",
    "    print('step = {0}:\\n\\tloss = {1}'.format(step, train_loss))\n",
    "    avg_return = compute_avg_return(env, agent.policy)\n",
    "    print('\\taverage return = {1}'.format(step, avg_return))\n",
    "    returns.append(avg_return)"
   ],
   "metadata": {
    "collapsed": false,
    "pycharm": {
     "name": "#%%\n"
    }
   }
  },
  {
   "cell_type": "markdown",
   "source": [
    "We can now see how the training progressed by plotting the average return over the iterations."
   ],
   "metadata": {
    "collapsed": false,
    "pycharm": {
     "name": "#%% md\n"
    }
   }
  },
  {
   "cell_type": "code",
   "execution_count": null,
   "outputs": [],
   "source": [
    "import matplotlib.pyplot as plt\n",
    "iterations = range(0, num_iterations + 1, 200)\n",
    "plt.plot(iterations, returns)\n",
    "plt.ylabel('Average Return')\n",
    "plt.xlabel('Iterations')"
   ],
   "metadata": {
    "collapsed": false,
    "pycharm": {
     "name": "#%%\n"
    }
   }
  },
  {
   "cell_type": "markdown",
   "source": [
    "Let's now see how the agent behaves."
   ],
   "metadata": {
    "collapsed": false,
    "pycharm": {
     "name": "#%% md\n"
    }
   }
  },
  {
   "cell_type": "code",
   "execution_count": null,
   "outputs": [],
   "source": [
    "render_policy(agent.policy)"
   ],
   "metadata": {
    "collapsed": false,
    "pycharm": {
     "name": "#%%\n"
    }
   }
  },
  {
   "cell_type": "code",
   "execution_count": null,
   "outputs": [],
   "source": [],
   "metadata": {
    "collapsed": false,
    "pycharm": {
     "name": "#%%\n"
    }
   }
  }
 ],
 "metadata": {
  "kernelspec": {
   "display_name": "Python 3",
   "language": "python",
   "name": "python3"
  },
  "language_info": {
   "codemirror_mode": {
    "name": "ipython",
    "version": 2
   },
   "file_extension": ".py",
   "mimetype": "text/x-python",
   "name": "python",
   "nbconvert_exporter": "python",
   "pygments_lexer": "ipython2",
   "version": "2.7.6"
  }
 },
 "nbformat": 4,
 "nbformat_minor": 0
}
